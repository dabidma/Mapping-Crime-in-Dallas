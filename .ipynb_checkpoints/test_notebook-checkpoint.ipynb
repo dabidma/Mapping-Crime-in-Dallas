{
 "cells": [
  {
   "cell_type": "markdown",
   "id": "123875fb-489c-4879-a105-ec903bc8ba03",
   "metadata": {},
   "source": [
    "# Import"
   ]
  },
  {
   "cell_type": "code",
   "execution_count": null,
   "id": "eec865dd-d8cd-40d6-895c-b4be4710a9b5",
   "metadata": {},
   "outputs": [],
   "source": []
  }
 ],
 "metadata": {
  "kernelspec": {
   "display_name": "Python 3 (ipykernel)",
   "language": "python",
   "name": "python3"
  },
  "language_info": {
   "codemirror_mode": {
    "name": "ipython",
    "version": 3
   },
   "file_extension": ".py",
   "mimetype": "text/x-python",
   "name": "python",
   "nbconvert_exporter": "python",
   "pygments_lexer": "ipython3",
   "version": "3.10.6"
  }
 },
 "nbformat": 4,
 "nbformat_minor": 5
}
