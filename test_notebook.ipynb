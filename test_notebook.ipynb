{
 "cells": [
  {
   "cell_type": "markdown",
   "id": "123875fb-489c-4879-a105-ec903bc8ba03",
   "metadata": {},
   "source": [
    "# Import"
   ]
  },
  {
   "cell_type": "code",
   "execution_count": 1,
   "id": "ec6d17ae-6965-413f-8879-c74ae90196fe",
   "metadata": {},
   "outputs": [],
   "source": [
    "import pandas as pd\n",
    "from sodapy import Socrata\n",
    "from api_keys import *\n",
    "import datetime"
   ]
  },
  {
   "cell_type": "code",
   "execution_count": 2,
   "id": "eec865dd-d8cd-40d6-895c-b4be4710a9b5",
   "metadata": {},
   "outputs": [],
   "source": [
    "# Unauthenticated client only works with public data sets. Note 'None'\n",
    "# in place of application token, and no username or password:\n",
    "client = Socrata(\"www.dallasopendata.com\", app_token)"
   ]
  },
  {
   "cell_type": "code",
   "execution_count": 3,
   "id": "7771e560-f65d-47e0-932e-90eba56cd680",
   "metadata": {},
   "outputs": [],
   "source": [
    "#grab data from api\n",
    "#sdr7-6v3j is the dataset code from sodapy\n",
    "all_data = client.get_all(\"sdr7-6v3j\")\n",
    "\n",
    "#turn into pandas df\n",
    "data_df = pd.DataFrame.from_records(all_data)"
   ]
  },
  {
   "cell_type": "code",
   "execution_count": 4,
   "id": "6a481420-95e0-4f13-a566-fb5e82c29ce9",
   "metadata": {},
   "outputs": [],
   "source": [
    "data_df.sort_values(by='ararrestdate',ascending=False, inplace=True)\n",
    "# data_df"
   ]
  },
  {
   "cell_type": "code",
   "execution_count": 5,
   "id": "3c4366b8-394c-491e-a224-e25c9af179a6",
   "metadata": {
    "tags": []
   },
   "outputs": [],
   "source": [
    "# data_df.columns\n",
    "#looking for only certain columns\n",
    "#'incidentnum', 'arrestnumber', 'ararrestdate', 'ararresttime', 'arpremises', 'arladdress', 'arlzip','sex','drugrelated','drugtype','age'\n",
    "data_df = data_df[['incidentnum', 'arrestnumber', 'ararrestdate', 'ararresttime', 'arpremises', 'arladdress', 'arlzip','sex','drugrelated','drugtype','age']]\n",
    "# data_df.head()"
   ]
  },
  {
   "cell_type": "code",
   "execution_count": 6,
   "id": "e5331865-3970-4989-a36d-8af182ab02c7",
   "metadata": {},
   "outputs": [],
   "source": [
    "data_df = data_df.loc[((data_df['drugrelated']=='Yes') | (data_df['drugrelated']=='Uknown'))]\n",
    "# data_df.head()"
   ]
  },
  {
   "cell_type": "code",
   "execution_count": 8,
   "id": "17f4158e-53eb-4459-bf46-e4e86f9f0079",
   "metadata": {},
   "outputs": [],
   "source": [
    "for index, row in data_df.iterrows():\n",
    "        split = row['ararrestdate'].split('T')\n",
    "        row['ararrestdate'] = split[0]\n"
   ]
  },
  {
   "cell_type": "code",
   "execution_count": 9,
   "id": "9eb802ac-2768-441f-a795-99fae27f0d82",
   "metadata": {},
   "outputs": [
    {
     "data": {
      "text/html": [
       "<div>\n",
       "<style scoped>\n",
       "    .dataframe tbody tr th:only-of-type {\n",
       "        vertical-align: middle;\n",
       "    }\n",
       "\n",
       "    .dataframe tbody tr th {\n",
       "        vertical-align: top;\n",
       "    }\n",
       "\n",
       "    .dataframe thead th {\n",
       "        text-align: right;\n",
       "    }\n",
       "</style>\n",
       "<table border=\"1\" class=\"dataframe\">\n",
       "  <thead>\n",
       "    <tr style=\"text-align: right;\">\n",
       "      <th></th>\n",
       "      <th>incidentnum</th>\n",
       "      <th>arrestnumber</th>\n",
       "      <th>ararrestdate</th>\n",
       "      <th>ararresttime</th>\n",
       "      <th>arpremises</th>\n",
       "      <th>arladdress</th>\n",
       "      <th>arlzip</th>\n",
       "      <th>sex</th>\n",
       "      <th>drugrelated</th>\n",
       "      <th>drugtype</th>\n",
       "      <th>age</th>\n",
       "    </tr>\n",
       "  </thead>\n",
       "  <tbody>\n",
       "    <tr>\n",
       "      <th>39</th>\n",
       "      <td>198577-2022</td>\n",
       "      <td>22-031360</td>\n",
       "      <td>2022-11-01</td>\n",
       "      <td>23:00</td>\n",
       "      <td>Highway, Street, Alley ETC</td>\n",
       "      <td>9600 C F HAWN SERV WB</td>\n",
       "      <td>75217</td>\n",
       "      <td>Male</td>\n",
       "      <td>Yes</td>\n",
       "      <td>Methamphetamine</td>\n",
       "      <td>42</td>\n",
       "    </tr>\n",
       "    <tr>\n",
       "      <th>50</th>\n",
       "      <td>198023-2022</td>\n",
       "      <td>22-031292</td>\n",
       "      <td>2022-11-01</td>\n",
       "      <td>05:40</td>\n",
       "      <td>NaN</td>\n",
       "      <td>8550 N STEMMONS SERV NB</td>\n",
       "      <td>75247</td>\n",
       "      <td>Male</td>\n",
       "      <td>Yes</td>\n",
       "      <td>Cultivated Marijuana</td>\n",
       "      <td>22</td>\n",
       "    </tr>\n",
       "    <tr>\n",
       "      <th>166</th>\n",
       "      <td>198195-2022</td>\n",
       "      <td>22-031311</td>\n",
       "      <td>2022-11-01</td>\n",
       "      <td>13:00</td>\n",
       "      <td>Convenience Store</td>\n",
       "      <td>2603 S LANCASTER RD</td>\n",
       "      <td>75216</td>\n",
       "      <td>Male</td>\n",
       "      <td>Yes</td>\n",
       "      <td>Cultivated Marijuana</td>\n",
       "      <td>23</td>\n",
       "    </tr>\n",
       "    <tr>\n",
       "      <th>58</th>\n",
       "      <td>198025-2022</td>\n",
       "      <td>22-031285</td>\n",
       "      <td>2022-11-01</td>\n",
       "      <td>05:40</td>\n",
       "      <td>Highway, Street, Alley ETC</td>\n",
       "      <td>2700 N STEMMONS FWY</td>\n",
       "      <td>75207</td>\n",
       "      <td>Male</td>\n",
       "      <td>Uknown</td>\n",
       "      <td>NaN</td>\n",
       "      <td>23</td>\n",
       "    </tr>\n",
       "    <tr>\n",
       "      <th>85</th>\n",
       "      <td>198496-2022</td>\n",
       "      <td>22-031347</td>\n",
       "      <td>2022-11-01</td>\n",
       "      <td>20:19</td>\n",
       "      <td>Outdoor Area Public/Private</td>\n",
       "      <td>4503 S LANCASTER RD</td>\n",
       "      <td>75216</td>\n",
       "      <td>Male</td>\n",
       "      <td>Uknown</td>\n",
       "      <td>NaN</td>\n",
       "      <td>66</td>\n",
       "    </tr>\n",
       "  </tbody>\n",
       "</table>\n",
       "</div>"
      ],
      "text/plain": [
       "     incidentnum arrestnumber ararrestdate ararresttime  \\\n",
       "39   198577-2022    22-031360   2022-11-01        23:00   \n",
       "50   198023-2022    22-031292   2022-11-01        05:40   \n",
       "166  198195-2022    22-031311   2022-11-01        13:00   \n",
       "58   198025-2022    22-031285   2022-11-01        05:40   \n",
       "85   198496-2022    22-031347   2022-11-01        20:19   \n",
       "\n",
       "                      arpremises               arladdress arlzip   sex  \\\n",
       "39    Highway, Street, Alley ETC    9600 C F HAWN SERV WB  75217  Male   \n",
       "50                           NaN  8550 N STEMMONS SERV NB  75247  Male   \n",
       "166            Convenience Store      2603 S LANCASTER RD  75216  Male   \n",
       "58    Highway, Street, Alley ETC      2700 N STEMMONS FWY  75207  Male   \n",
       "85   Outdoor Area Public/Private      4503 S LANCASTER RD  75216  Male   \n",
       "\n",
       "    drugrelated              drugtype age  \n",
       "39          Yes       Methamphetamine  42  \n",
       "50          Yes  Cultivated Marijuana  22  \n",
       "166         Yes  Cultivated Marijuana  23  \n",
       "58       Uknown                   NaN  23  \n",
       "85       Uknown                   NaN  66  "
      ]
     },
     "execution_count": 9,
     "metadata": {},
     "output_type": "execute_result"
    }
   ],
   "source": [
    "data_df.head()"
   ]
  },
  {
   "cell_type": "code",
   "execution_count": 10,
   "id": "eb17bef0-c117-4bff-a137-7b384b47fd74",
   "metadata": {},
   "outputs": [],
   "source": [
    "import sqlite3"
   ]
  },
  {
   "cell_type": "code",
   "execution_count": 11,
   "id": "bd99b2a1-3118-490b-9ae9-a407babc7434",
   "metadata": {},
   "outputs": [],
   "source": [
    "conn =sqlite3.connect('test_database')\n",
    "c = conn.cursor()"
   ]
  },
  {
   "cell_type": "code",
   "execution_count": 12,
   "id": "9144aafc-bbdc-4a7f-8a5d-f7333cd8ce52",
   "metadata": {},
   "outputs": [],
   "source": [
    "c.execute('CREATE TABLE IF NOT EXISTS crime_test (incidentnum, arrestnumber, ararrestdate, ararresttime, arpremises, arladdress, arlzip, sex, drugrelated, drugtype, age)')\n",
    "conn.commit()"
   ]
  },
  {
   "cell_type": "code",
   "execution_count": 14,
   "id": "730efb25-daec-4076-b845-07aaeec8d308",
   "metadata": {},
   "outputs": [
    {
     "data": {
      "text/plain": [
       "20525"
      ]
     },
     "execution_count": 14,
     "metadata": {},
     "output_type": "execute_result"
    }
   ],
   "source": [
    "data_df.to_sql('crime_test', conn, if_exists='replace', index = False)"
   ]
  },
  {
   "cell_type": "code",
   "execution_count": 15,
   "id": "78997b49-d61a-49f5-aa8b-da6e696a6b06",
   "metadata": {},
   "outputs": [
    {
     "data": {
      "text/plain": [
       "<sqlite3.Cursor at 0x2424a087840>"
      ]
     },
     "execution_count": 15,
     "metadata": {},
     "output_type": "execute_result"
    }
   ],
   "source": [
    "c.execute('''select * from crime_test''')"
   ]
  },
  {
   "cell_type": "code",
   "execution_count": 17,
   "id": "80da8ed7-9b5d-454d-bb53-e8f11e819ea0",
   "metadata": {},
   "outputs": [],
   "source": [
    "for row in c.fetchall():\n",
    "    print(row)\n",
    "    break"
   ]
  },
  {
   "cell_type": "code",
   "execution_count": null,
   "id": "058735a8-f1f5-47b0-9b4a-47637808e9d2",
   "metadata": {},
   "outputs": [],
   "source": []
  },
  {
   "cell_type": "code",
   "execution_count": 23,
   "id": "effd18b0-3390-4a6b-b23e-64400cce7db7",
   "metadata": {},
   "outputs": [],
   "source": [
    "#decrease the amount of data to filter by today or past week, month, and year\n",
    "#creating the variables to filter through the df's\n",
    "today = datetime.date.today()\n",
    "week = today - datetime.timedelta(days=7)\n",
    "month = today - datetime.timedelta(days=30)\n",
    "year = (today - datetime.timedelta(days=365)).strftime('%Y-%m-%d')\n",
    "today = today.strftime('%Y-%m-%d')\n",
    "week = week.strftime('%Y-%m-%d')\n",
    "month = month.strftime('%Y-%m-%d')"
   ]
  },
  {
   "cell_type": "code",
   "execution_count": 24,
   "id": "fcffcefe-df4b-4997-ab22-47cd896c5978",
   "metadata": {},
   "outputs": [],
   "source": [
    "#filter through the dataframes descending to not constantly work with big data for each filter\n",
    "# year_df = data_df[(data_df['ararrestdate'] >= year)]\n",
    "# month_df = year_df[(year_df['ararrestdate'] >= month)]\n",
    "# week_df = month_df[(month_df['ararrestdate'] >= week)]\n",
    "# today_df = week_df[(week_df['ararrestdate'] >= today)]\n",
    "\n",
    "# filters = [year_df, month_df, week_df, today_df]"
   ]
  },
  {
   "cell_type": "code",
   "execution_count": null,
   "id": "7f51bf90-598c-43cc-8d92-3bfad969ddb6",
   "metadata": {},
   "outputs": [],
   "source": []
  }
 ],
 "metadata": {
  "kernelspec": {
   "display_name": "Python 3 (ipykernel)",
   "language": "python",
   "name": "python3"
  },
  "language_info": {
   "codemirror_mode": {
    "name": "ipython",
    "version": 3
   },
   "file_extension": ".py",
   "mimetype": "text/x-python",
   "name": "python",
   "nbconvert_exporter": "python",
   "pygments_lexer": "ipython3",
   "version": "3.10.6"
  }
 },
 "nbformat": 4,
 "nbformat_minor": 5
}
